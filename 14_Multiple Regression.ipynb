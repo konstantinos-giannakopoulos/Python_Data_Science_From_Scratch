{
 "cells": [
  {
   "cell_type": "code",
   "execution_count": 1,
   "metadata": {},
   "outputs": [],
   "source": [
    "from typing import List\n",
    "\n",
    "inputs: List[List[float]] = [[1.,49,4,0],[1,41,9,0],[1,40,8,0],[1,25,6,0],[1,21,1,0],[1,21,0,0],[1,19,3,0],[1,19,0,0],[1,18,9,0],[1,18,8,0],[1,16,4,0],[1,15,3,0],[1,15,0,0],[1,15,2,0],[1,15,7,0],[1,14,0,0],[1,14,1,0],[1,13,1,0],[1,13,7,0],[1,13,4,0],[1,13,2,0],[1,12,5,0],[1,12,0,0],[1,11,9,0],[1,10,9,0],[1,10,1,0],[1,10,1,0],[1,10,7,0],[1,10,9,0],[1,10,1,0],[1,10,6,0],[1,10,6,0],[1,10,8,0],[1,10,10,0],[1,10,6,0],[1,10,0,0],[1,10,5,0],[1,10,3,0],[1,10,4,0],[1,9,9,0],[1,9,9,0],[1,9,0,0],[1,9,0,0],[1,9,6,0],[1,9,10,0],[1,9,8,0],[1,9,5,0],[1,9,2,0],[1,9,9,0],[1,9,10,0],[1,9,7,0],[1,9,2,0],[1,9,0,0],[1,9,4,0],[1,9,6,0],[1,9,4,0],[1,9,7,0],[1,8,3,0],[1,8,2,0],[1,8,4,0],[1,8,9,0],[1,8,2,0],[1,8,3,0],[1,8,5,0],[1,8,8,0],[1,8,0,0],[1,8,9,0],[1,8,10,0],[1,8,5,0],[1,8,5,0],[1,7,5,0],[1,7,5,0],[1,7,0,0],[1,7,2,0],[1,7,8,0],[1,7,10,0],[1,7,5,0],[1,7,3,0],[1,7,3,0],[1,7,6,0],[1,7,7,0],[1,7,7,0],[1,7,9,0],[1,7,3,0],[1,7,8,0],[1,6,4,0],[1,6,6,0],[1,6,4,0],[1,6,9,0],[1,6,0,0],[1,6,1,0],[1,6,4,0],[1,6,1,0],[1,6,0,0],[1,6,7,0],[1,6,0,0],[1,6,8,0],[1,6,4,0],[1,6,2,1],[1,6,1,1],[1,6,3,1],[1,6,6,1],[1,6,4,1],[1,6,4,1],[1,6,1,1],[1,6,3,1],[1,6,4,1],[1,5,1,1],[1,5,9,1],[1,5,4,1],[1,5,6,1],[1,5,4,1],[1,5,4,1],[1,5,10,1],[1,5,5,1],[1,5,2,1],[1,5,4,1],[1,5,4,1],[1,5,9,1],[1,5,3,1],[1,5,10,1],[1,5,2,1],[1,5,2,1],[1,5,9,1],[1,4,8,1],[1,4,6,1],[1,4,0,1],[1,4,10,1],[1,4,5,1],[1,4,10,1],[1,4,9,1],[1,4,1,1],[1,4,4,1],[1,4,4,1],[1,4,0,1],[1,4,3,1],[1,4,1,1],[1,4,3,1],[1,4,2,1],[1,4,4,1],[1,4,4,1],[1,4,8,1],[1,4,2,1],[1,4,4,1],[1,3,2,1],[1,3,6,1],[1,3,4,1],[1,3,7,1],[1,3,4,1],[1,3,1,1],[1,3,10,1],[1,3,3,1],[1,3,4,1],[1,3,7,1],[1,3,5,1],[1,3,6,1],[1,3,1,1],[1,3,6,1],[1,3,10,1],[1,3,2,1],[1,3,4,1],[1,3,2,1],[1,3,1,1],[1,3,5,1],[1,2,4,1],[1,2,2,1],[1,2,8,1],[1,2,3,1],[1,2,1,1],[1,2,9,1],[1,2,10,1],[1,2,9,1],[1,2,4,1],[1,2,5,1],[1,2,0,1],[1,2,9,1],[1,2,9,1],[1,2,0,1],[1,2,1,1],[1,2,1,1],[1,2,4,1],[1,1,0,1],[1,1,2,1],[1,1,2,1],[1,1,5,1],[1,1,3,1],[1,1,10,1],[1,1,6,1],[1,1,0,1],[1,1,8,1],[1,1,6,1],[1,1,4,1],[1,1,9,1],[1,1,9,1],[1,1,4,1],[1,1,2,1],[1,1,9,1],[1,1,0,1],[1,1,8,1],[1,1,6,1],[1,1,1,1],[1,1,1,1],[1,1,5,1]]"
   ]
  },
  {
   "cell_type": "code",
   "execution_count": 2,
   "metadata": {},
   "outputs": [
    {
     "data": {
      "text/plain": [
       "[1, 49, 4, 0]"
      ]
     },
     "execution_count": 2,
     "metadata": {},
     "output_type": "execute_result"
    }
   ],
   "source": [
    "from linear_algebra import dot, Vector\n",
    "\n",
    "def predict(x: Vector, beta: Vector) -> float:\n",
    "    \"\"\"assumes that the first element of x is 1\"\"\"\n",
    "    return dot(x, beta)\n",
    "\n",
    "[1,    # constant term\n",
    " 49,   # number of friends\n",
    " 4,    # work hours per day\n",
    " 0]    # doesn't have PhD"
   ]
  },
  {
   "cell_type": "code",
   "execution_count": 3,
   "metadata": {},
   "outputs": [],
   "source": [
    "from typing import List\n",
    "\n",
    "def error(x: Vector, y: float, beta: Vector) -> float:\n",
    "    return predict(x, beta) - y\n",
    "\n",
    "def squared_error(x: Vector, y: float, beta: Vector) -> float:\n",
    "    return error(x, y, beta) ** 2\n",
    "\n",
    "x = [1, 2, 3]\n",
    "y = 30\n",
    "beta = [4, 4, 4]  # so prediction = 4 + 8 + 12 = 24\n",
    "\n",
    "assert error(x, y, beta) == -6\n",
    "assert squared_error(x, y, beta) == 36"
   ]
  },
  {
   "cell_type": "code",
   "execution_count": 4,
   "metadata": {},
   "outputs": [],
   "source": [
    "def sqerror_gradient(x: Vector, y: float, beta: Vector) -> Vector:\n",
    "    err = error(x, y, beta)\n",
    "    return [2 * err * x_i for x_i in x]\n",
    "\n",
    "assert sqerror_gradient(x, y, beta) == [-12, -24, -36]"
   ]
  },
  {
   "cell_type": "code",
   "execution_count": 5,
   "metadata": {},
   "outputs": [],
   "source": [
    "import random\n",
    "import tqdm\n",
    "from linear_algebra import vector_mean\n",
    "from gradient_descent import gradient_step\n",
    "\n",
    "\n",
    "def least_squares_fit(xs: List[Vector],\n",
    "                      ys: List[float],\n",
    "                      learning_rate: float = 0.001,\n",
    "                      num_steps: int = 1000,\n",
    "                      batch_size: int = 1) -> Vector:\n",
    "    \"\"\"\n",
    "    Find the beta that minimizes the sum of squared errors\n",
    "    assuming the model y = dot(x, beta).\n",
    "    \"\"\"\n",
    "    # Start with a random guess\n",
    "    guess = [random.random() for _ in xs[0]]\n",
    "\n",
    "    for _ in tqdm.trange(num_steps, desc=\"least squares fit\"):\n",
    "        for start in range(0, len(xs), batch_size):\n",
    "            batch_xs = xs[start:start+batch_size]\n",
    "            batch_ys = ys[start:start+batch_size]\n",
    "\n",
    "            gradient = vector_mean([sqerror_gradient(x, y, guess)\n",
    "                                    for x, y in zip(batch_xs, batch_ys)])\n",
    "            guess = gradient_step(guess, gradient, -learning_rate)\n",
    "\n",
    "    return guess\n"
   ]
  },
  {
   "cell_type": "code",
   "execution_count": 10,
   "metadata": {},
   "outputs": [],
   "source": [
    "from simple_linear_regression import total_sum_of_squares\n",
    "\n",
    "def multiple_r_squared(xs: List[Vector], ys: Vector, beta: Vector) -> float:\n",
    "    sum_of_squared_errors = sum(error(x, y, beta) ** 2\n",
    "                                for x, y in zip(xs, ys))\n",
    "    return 1.0 - sum_of_squared_errors / total_sum_of_squares(ys)"
   ]
  },
  {
   "cell_type": "code",
   "execution_count": 11,
   "metadata": {},
   "outputs": [],
   "source": [
    "from typing import TypeVar, Callable\n",
    "\n",
    "X = TypeVar('X')        # Generic type for data\n",
    "Stat = TypeVar('Stat')  # Generic type for \"statistic\"\n",
    "\n",
    "def bootstrap_sample(data: List[X]) -> List[X]:\n",
    "    \"\"\"randomly samples len(data) elements with replacement\"\"\"\n",
    "    return [random.choice(data) for _ in data]\n",
    "\n",
    "def bootstrap_statistic(data: List[X],\n",
    "                        stats_fn: Callable[[List[X]], Stat],\n",
    "                        num_samples: int) -> List[Stat]:\n",
    "    \"\"\"evaluates stats_fn on num_samples bootstrap samples from data\"\"\"\n",
    "    return [stats_fn(bootstrap_sample(data)) for _ in range(num_samples)]\n",
    "\n",
    "# 101 points all very close to 100\n",
    "close_to_100 = [99.5 + random.random() for _ in range(101)]\n",
    "\n",
    "# 101 points, 50 of them near 0, 50 of them near 200\n",
    "far_from_100 = ([99.5 + random.random()] +\n",
    "                [random.random() for _ in range(50)] +\n",
    "                [200 + random.random() for _ in range(50)])"
   ]
  },
  {
   "cell_type": "code",
   "execution_count": 12,
   "metadata": {},
   "outputs": [],
   "source": [
    "from statistics_file import median, standard_deviation\n",
    "\n",
    "medians_close = bootstrap_statistic(close_to_100, median, 100)\n",
    "\n",
    "medians_far = bootstrap_statistic(far_from_100, median, 100)\n",
    "\n",
    "assert standard_deviation(medians_close) < 1\n",
    "assert standard_deviation(medians_far) > 90"
   ]
  },
  {
   "cell_type": "code",
   "execution_count": 13,
   "metadata": {},
   "outputs": [
    {
     "data": {
      "text/plain": [
       "<Figure size 432x288 with 0 Axes>"
      ]
     },
     "metadata": {},
     "output_type": "display_data"
    }
   ],
   "source": [
    "from probability import normal_cdf\n",
    "\n",
    "def p_value(beta_hat_j: float, sigma_hat_j: float) -> float:\n",
    "    if beta_hat_j > 0:\n",
    "        # if the coefficient is positive, we need to compute twice the\n",
    "        # probability of seeing an even *larger* value\n",
    "        return 2 * (1 - normal_cdf(beta_hat_j / sigma_hat_j))\n",
    "    else:\n",
    "        # otherwise twice the probability of seeing a *smaller* value\n",
    "        return 2 * normal_cdf(beta_hat_j / sigma_hat_j)\n",
    "\n",
    "assert p_value(30.58, 1.27)   < 0.001  # constant term\n",
    "assert p_value(0.972, 0.103)  < 0.001  # num_friends\n",
    "assert p_value(-1.865, 0.155) < 0.001  # work_hours\n",
    "assert p_value(0.923, 1.249)  > 0.4    # phd"
   ]
  },
  {
   "cell_type": "code",
   "execution_count": 14,
   "metadata": {},
   "outputs": [],
   "source": [
    "# alpha is a *hyperparameter* controlling how harsh the penalty is\n",
    "# sometimes it's called \"lambda\" but that already means something in Python\n",
    "def ridge_penalty(beta: Vector, alpha: float) -> float:\n",
    "    return alpha * dot(beta[1:], beta[1:])\n",
    "\n",
    "def squared_error_ridge(x: Vector,\n",
    "                        y: float,\n",
    "                        beta: Vector,\n",
    "                        alpha: float) -> float:\n",
    "    \"\"\"estimate error plus ridge penalty on beta\"\"\"\n",
    "    return error(x, y, beta) ** 2 + ridge_penalty(beta, alpha)\n"
   ]
  },
  {
   "cell_type": "code",
   "execution_count": 15,
   "metadata": {},
   "outputs": [],
   "source": [
    "from linear_algebra import add\n",
    "\n",
    "def ridge_penalty_gradient(beta: Vector, alpha: float) -> Vector:\n",
    "    \"\"\"gradient of just the ridge penalty\"\"\"\n",
    "    return [0.] + [2 * alpha * beta_j for beta_j in beta[1:]]\n",
    "\n",
    "def sqerror_ridge_gradient(x: Vector,\n",
    "                           y: float,\n",
    "                           beta: Vector,\n",
    "                           alpha: float) -> Vector:\n",
    "    \"\"\"\n",
    "    the gradient corresponding to the ith squared error term\n",
    "    including the ridge penalty\n",
    "    \"\"\"\n",
    "    return add(sqerror_gradient(x, y, beta),\n",
    "               ridge_penalty_gradient(beta, alpha))"
   ]
  },
  {
   "cell_type": "code",
   "execution_count": 16,
   "metadata": {},
   "outputs": [],
   "source": [
    "from statistics_file import daily_minutes_good\n",
    "from gradient_descent import gradient_step\n",
    "\n",
    "learning_rate = 0.001\n",
    "\n",
    "def least_squares_fit_ridge(xs: List[Vector],\n",
    "                            ys: List[float],\n",
    "                            alpha: float,\n",
    "                            learning_rate: float,\n",
    "                            num_steps: int,\n",
    "                            batch_size: int = 1) -> Vector:\n",
    "    # Start guess with mean\n",
    "    guess = [random.random() for _ in xs[0]]\n",
    "\n",
    "    for i in range(num_steps):\n",
    "        for start in range(0, len(xs), batch_size):\n",
    "            batch_xs = xs[start:start+batch_size]\n",
    "            batch_ys = ys[start:start+batch_size]\n",
    "\n",
    "            gradient = vector_mean([sqerror_ridge_gradient(x, y, guess, alpha)\n",
    "                                    for x, y in zip(batch_xs, batch_ys)])\n",
    "            guess = gradient_step(guess, gradient, -learning_rate)\n",
    "\n",
    "    return guess\n",
    "\n",
    "def lasso_penalty(beta, alpha):\n",
    "    return alpha * sum(abs(beta_i) for beta_i in beta[1:])\n"
   ]
  },
  {
   "cell_type": "markdown",
   "metadata": {},
   "source": [
    "### main()"
   ]
  },
  {
   "cell_type": "code",
   "execution_count": 17,
   "metadata": {},
   "outputs": [
    {
     "name": "stderr",
     "output_type": "stream",
     "text": [
      "least squares fit: 100%|██████████| 5000/5000 [00:03<00:00, 1631.07it/s]\n"
     ]
    }
   ],
   "source": [
    "from statistics_file import daily_minutes_good\n",
    "from gradient_descent import gradient_step\n",
    "\n",
    "random.seed(0)\n",
    "# I used trial and error to choose niters and step_size.\n",
    "# This will run for a while.\n",
    "learning_rate = 0.001\n",
    "\n",
    "beta = least_squares_fit(inputs, daily_minutes_good, learning_rate, 5000, 25)\n",
    "assert 30.50 < beta[0] < 30.70  # constant\n",
    "assert  0.96 < beta[1] <  1.00  # num friends\n",
    "assert -1.89 < beta[2] < -1.85  # work hours per day\n",
    "assert  0.91 < beta[3] <  0.94  # has PhD\n",
    "\n",
    "assert 0.67 < multiple_r_squared(inputs, daily_minutes_good, beta) < 0.68"
   ]
  },
  {
   "cell_type": "code",
   "execution_count": 18,
   "metadata": {},
   "outputs": [
    {
     "name": "stderr",
     "output_type": "stream",
     "text": [
      "least squares fit: 100%|██████████| 5000/5000 [00:03<00:00, 1664.33it/s]\n",
      "least squares fit:   3%|▎         | 168/5000 [00:00<00:02, 1679.61it/s]"
     ]
    },
    {
     "name": "stdout",
     "output_type": "stream",
     "text": [
      "bootstrap sample [30.49402029547432, 1.0393791030498776, -1.9516851948558502, 0.7483721251697333]\n"
     ]
    },
    {
     "name": "stderr",
     "output_type": "stream",
     "text": [
      "least squares fit: 100%|██████████| 5000/5000 [00:03<00:00, 1614.25it/s]\n",
      "least squares fit:   3%|▎         | 155/5000 [00:00<00:03, 1543.21it/s]"
     ]
    },
    {
     "name": "stdout",
     "output_type": "stream",
     "text": [
      "bootstrap sample [30.149963287526045, 1.0005300432763113, -2.0650380122822543, 3.177179854834797]\n"
     ]
    },
    {
     "name": "stderr",
     "output_type": "stream",
     "text": [
      "least squares fit: 100%|██████████| 5000/5000 [00:03<00:00, 1630.06it/s]\n",
      "least squares fit:   2%|▏         | 108/5000 [00:00<00:04, 1076.62it/s]"
     ]
    },
    {
     "name": "stdout",
     "output_type": "stream",
     "text": [
      "bootstrap sample [29.202826897693722, 1.0017089956376213, -1.5294248424787367, 0.9528580285760854]\n"
     ]
    },
    {
     "name": "stderr",
     "output_type": "stream",
     "text": [
      "least squares fit: 100%|██████████| 5000/5000 [00:03<00:00, 1497.40it/s]\n",
      "least squares fit:   5%|▍         | 228/5000 [00:00<00:04, 1175.19it/s]"
     ]
    },
    {
     "name": "stdout",
     "output_type": "stream",
     "text": [
      "bootstrap sample [31.29481217471851, 0.959264729494101, -1.9120875473727545, 0.039471107599519425]\n"
     ]
    },
    {
     "name": "stderr",
     "output_type": "stream",
     "text": [
      "least squares fit: 100%|██████████| 5000/5000 [00:03<00:00, 1629.57it/s]\n",
      "least squares fit:   3%|▎         | 168/5000 [00:00<00:02, 1673.20it/s]"
     ]
    },
    {
     "name": "stdout",
     "output_type": "stream",
     "text": [
      "bootstrap sample [32.124144227949955, 0.8569794405277468, -1.9936770520754086, 1.0416943131373024]\n"
     ]
    },
    {
     "name": "stderr",
     "output_type": "stream",
     "text": [
      "least squares fit: 100%|██████████| 5000/5000 [00:02<00:00, 1698.77it/s]\n",
      "least squares fit:   7%|▋         | 350/5000 [00:00<00:02, 1717.47it/s]"
     ]
    },
    {
     "name": "stdout",
     "output_type": "stream",
     "text": [
      "bootstrap sample [31.8691994453096, 0.7748022870492418, -2.0087625702876446, -1.2407036547656678]\n"
     ]
    },
    {
     "name": "stderr",
     "output_type": "stream",
     "text": [
      "least squares fit: 100%|██████████| 5000/5000 [00:02<00:00, 1761.69it/s]\n",
      "least squares fit:   3%|▎         | 132/5000 [00:00<00:03, 1317.91it/s]"
     ]
    },
    {
     "name": "stdout",
     "output_type": "stream",
     "text": [
      "bootstrap sample [31.08119759650208, 0.998386254386918, -1.9833984114987815, 0.9567646217580389]\n"
     ]
    },
    {
     "name": "stderr",
     "output_type": "stream",
     "text": [
      "least squares fit: 100%|██████████| 5000/5000 [00:03<00:00, 1628.31it/s]\n",
      "least squares fit:   3%|▎         | 160/5000 [00:00<00:03, 1548.29it/s]"
     ]
    },
    {
     "name": "stdout",
     "output_type": "stream",
     "text": [
      "bootstrap sample [29.254530450577782, 0.9763387220017684, -1.7430339427043595, 1.9944240584590935]\n"
     ]
    },
    {
     "name": "stderr",
     "output_type": "stream",
     "text": [
      "least squares fit: 100%|██████████| 5000/5000 [00:02<00:00, 1811.70it/s]\n",
      "least squares fit:   3%|▎         | 163/5000 [00:00<00:02, 1622.30it/s]"
     ]
    },
    {
     "name": "stdout",
     "output_type": "stream",
     "text": [
      "bootstrap sample [31.649174199331632, 0.9389340937491032, -1.9733848473304205, -0.15249287969349437]\n"
     ]
    },
    {
     "name": "stderr",
     "output_type": "stream",
     "text": [
      "least squares fit: 100%|██████████| 5000/5000 [00:02<00:00, 1830.26it/s]\n",
      "least squares fit:   7%|▋         | 345/5000 [00:00<00:02, 1674.91it/s]"
     ]
    },
    {
     "name": "stdout",
     "output_type": "stream",
     "text": [
      "bootstrap sample [30.040109260720964, 1.0531247386421572, -1.7694878560354388, 1.302971911084249]\n"
     ]
    },
    {
     "name": "stderr",
     "output_type": "stream",
     "text": [
      "least squares fit: 100%|██████████| 5000/5000 [00:02<00:00, 1835.02it/s]\n",
      "least squares fit:   3%|▎         | 160/5000 [00:00<00:03, 1596.97it/s]"
     ]
    },
    {
     "name": "stdout",
     "output_type": "stream",
     "text": [
      "bootstrap sample [29.066927054721297, 1.2792640005590372, -1.937339904947856, 0.9183668519320846]\n"
     ]
    },
    {
     "name": "stderr",
     "output_type": "stream",
     "text": [
      "least squares fit: 100%|██████████| 5000/5000 [00:02<00:00, 1800.01it/s]\n",
      "least squares fit:   3%|▎         | 159/5000 [00:00<00:03, 1575.49it/s]"
     ]
    },
    {
     "name": "stdout",
     "output_type": "stream",
     "text": [
      "bootstrap sample [31.740476303331718, 0.9538879291586574, -2.0689725879612477, 1.4785830120835612]\n"
     ]
    },
    {
     "name": "stderr",
     "output_type": "stream",
     "text": [
      "least squares fit: 100%|██████████| 5000/5000 [00:02<00:00, 1831.95it/s]\n",
      "least squares fit:   3%|▎         | 167/5000 [00:00<00:02, 1662.34it/s]"
     ]
    },
    {
     "name": "stdout",
     "output_type": "stream",
     "text": [
      "bootstrap sample [29.46654084062671, 0.9837739845117637, -1.9915052407093472, 3.150029950640157]\n"
     ]
    },
    {
     "name": "stderr",
     "output_type": "stream",
     "text": [
      "least squares fit: 100%|██████████| 5000/5000 [00:02<00:00, 1844.46it/s]\n",
      "least squares fit:   3%|▎         | 167/5000 [00:00<00:02, 1668.38it/s]"
     ]
    },
    {
     "name": "stdout",
     "output_type": "stream",
     "text": [
      "bootstrap sample [30.97515705531374, 0.9420086669374396, -2.0367671746636065, 0.6323599067111714]\n"
     ]
    },
    {
     "name": "stderr",
     "output_type": "stream",
     "text": [
      "least squares fit: 100%|██████████| 5000/5000 [00:02<00:00, 1681.42it/s]\n",
      "least squares fit:   3%|▎         | 152/5000 [00:00<00:03, 1517.62it/s]"
     ]
    },
    {
     "name": "stdout",
     "output_type": "stream",
     "text": [
      "bootstrap sample [31.478778128163995, 0.8623617407485805, -1.8798782324632368, -0.11949170941208796]\n"
     ]
    },
    {
     "name": "stderr",
     "output_type": "stream",
     "text": [
      "least squares fit: 100%|██████████| 5000/5000 [00:02<00:00, 1674.71it/s]\n",
      "least squares fit:   4%|▎         | 178/5000 [00:00<00:02, 1771.89it/s]"
     ]
    },
    {
     "name": "stdout",
     "output_type": "stream",
     "text": [
      "bootstrap sample [33.87286992682308, 0.8824018752321863, -1.8978803929581156, -1.0333647107478692]\n"
     ]
    },
    {
     "name": "stderr",
     "output_type": "stream",
     "text": [
      "least squares fit: 100%|██████████| 5000/5000 [00:02<00:00, 1755.71it/s]\n",
      "least squares fit:   4%|▎         | 184/5000 [00:00<00:02, 1838.60it/s]"
     ]
    },
    {
     "name": "stdout",
     "output_type": "stream",
     "text": [
      "bootstrap sample [29.272206898314987, 1.0899411603739348, -1.8911943299601002, 3.162677841885805]\n"
     ]
    },
    {
     "name": "stderr",
     "output_type": "stream",
     "text": [
      "least squares fit: 100%|██████████| 5000/5000 [00:03<00:00, 1511.02it/s]\n",
      "least squares fit:   3%|▎         | 149/5000 [00:00<00:03, 1475.38it/s]"
     ]
    },
    {
     "name": "stdout",
     "output_type": "stream",
     "text": [
      "bootstrap sample [30.83577809561691, 1.0242186355671827, -1.9209251081222494, 1.3383795133620962]\n"
     ]
    },
    {
     "name": "stderr",
     "output_type": "stream",
     "text": [
      "least squares fit: 100%|██████████| 5000/5000 [00:03<00:00, 1508.56it/s]\n",
      "least squares fit:   6%|▌         | 278/5000 [00:00<00:03, 1321.55it/s]"
     ]
    },
    {
     "name": "stdout",
     "output_type": "stream",
     "text": [
      "bootstrap sample [28.211162672015906, 1.458352440392638, -1.70241171517105, 0.94520401518726]\n"
     ]
    },
    {
     "name": "stderr",
     "output_type": "stream",
     "text": [
      "least squares fit: 100%|██████████| 5000/5000 [00:03<00:00, 1606.20it/s]\n",
      "least squares fit:   3%|▎         | 172/5000 [00:00<00:02, 1714.26it/s]"
     ]
    },
    {
     "name": "stdout",
     "output_type": "stream",
     "text": [
      "bootstrap sample [29.93552336056075, 0.9470529669956465, -1.8491245571618218, 0.8573641103651921]\n"
     ]
    },
    {
     "name": "stderr",
     "output_type": "stream",
     "text": [
      "least squares fit: 100%|██████████| 5000/5000 [00:03<00:00, 1649.71it/s]\n",
      "least squares fit:   3%|▎         | 159/5000 [00:00<00:03, 1579.26it/s]"
     ]
    },
    {
     "name": "stdout",
     "output_type": "stream",
     "text": [
      "bootstrap sample [30.636052325886002, 0.9966176913889679, -1.8308401560119625, 0.13862673979220685]\n"
     ]
    },
    {
     "name": "stderr",
     "output_type": "stream",
     "text": [
      "least squares fit: 100%|██████████| 5000/5000 [00:03<00:00, 1603.39it/s]\n",
      "least squares fit:   5%|▍         | 237/5000 [00:00<00:03, 1217.78it/s]"
     ]
    },
    {
     "name": "stdout",
     "output_type": "stream",
     "text": [
      "bootstrap sample [30.855945311129382, 0.9925731301194982, -1.834813509355548, 1.9711641797749935]\n"
     ]
    },
    {
     "name": "stderr",
     "output_type": "stream",
     "text": [
      "least squares fit: 100%|██████████| 5000/5000 [00:03<00:00, 1395.53it/s]\n",
      "least squares fit:   6%|▋         | 324/5000 [00:00<00:02, 1597.81it/s]"
     ]
    },
    {
     "name": "stdout",
     "output_type": "stream",
     "text": [
      "bootstrap sample [29.77226728370608, 1.0493381798575807, -1.6999309651266667, 0.9221651877575128]\n"
     ]
    },
    {
     "name": "stderr",
     "output_type": "stream",
     "text": [
      "least squares fit: 100%|██████████| 5000/5000 [00:03<00:00, 1380.09it/s]\n",
      "least squares fit:   2%|▏         | 97/5000 [00:00<00:05, 926.55it/s]"
     ]
    },
    {
     "name": "stdout",
     "output_type": "stream",
     "text": [
      "bootstrap sample [28.78470035821775, 0.9629668755117143, -1.7818333154132011, 1.905170320676074]\n"
     ]
    },
    {
     "name": "stderr",
     "output_type": "stream",
     "text": [
      "least squares fit: 100%|██████████| 5000/5000 [00:03<00:00, 1450.68it/s]\n",
      "least squares fit:   4%|▎         | 176/5000 [00:00<00:02, 1757.77it/s]"
     ]
    },
    {
     "name": "stdout",
     "output_type": "stream",
     "text": [
      "bootstrap sample [31.769457992268443, 0.9040180814550004, -1.867677593282121, -0.7957987643064021]\n"
     ]
    },
    {
     "name": "stderr",
     "output_type": "stream",
     "text": [
      "least squares fit: 100%|██████████| 5000/5000 [00:02<00:00, 1743.67it/s]\n",
      "least squares fit:   3%|▎         | 129/5000 [00:00<00:03, 1280.79it/s]"
     ]
    },
    {
     "name": "stdout",
     "output_type": "stream",
     "text": [
      "bootstrap sample [30.06836087625883, 0.9237365767889174, -1.7326788050658604, 1.9044381512517516]\n"
     ]
    },
    {
     "name": "stderr",
     "output_type": "stream",
     "text": [
      "least squares fit: 100%|██████████| 5000/5000 [00:03<00:00, 1547.13it/s]\n",
      "least squares fit:   1%|▏         | 73/5000 [00:00<00:06, 724.21it/s]"
     ]
    },
    {
     "name": "stdout",
     "output_type": "stream",
     "text": [
      "bootstrap sample [29.248924522774857, 1.0251706036709467, -1.6396068581125103, 1.7875039505127974]\n"
     ]
    },
    {
     "name": "stderr",
     "output_type": "stream",
     "text": [
      "least squares fit: 100%|██████████| 5000/5000 [00:02<00:00, 1695.90it/s]\n",
      "least squares fit:   3%|▎         | 148/5000 [00:00<00:03, 1478.76it/s]"
     ]
    },
    {
     "name": "stdout",
     "output_type": "stream",
     "text": [
      "bootstrap sample [26.160390418551746, 1.3566609275406472, -1.880731098382104, 3.884946816272215]\n"
     ]
    },
    {
     "name": "stderr",
     "output_type": "stream",
     "text": [
      "least squares fit: 100%|██████████| 5000/5000 [00:02<00:00, 1814.95it/s]\n",
      "least squares fit:   4%|▎         | 181/5000 [00:00<00:02, 1804.28it/s]"
     ]
    },
    {
     "name": "stdout",
     "output_type": "stream",
     "text": [
      "bootstrap sample [31.9708823034869, 0.8717159490168253, -1.8037586194211703, -0.23788897755135452]\n"
     ]
    },
    {
     "name": "stderr",
     "output_type": "stream",
     "text": [
      "least squares fit: 100%|██████████| 5000/5000 [00:02<00:00, 1812.86it/s]\n",
      "least squares fit:   6%|▋         | 313/5000 [00:00<00:03, 1560.70it/s]"
     ]
    },
    {
     "name": "stdout",
     "output_type": "stream",
     "text": [
      "bootstrap sample [30.580903591168788, 0.9610711598856186, -1.8984859248085817, -0.0023187395782722853]\n"
     ]
    },
    {
     "name": "stderr",
     "output_type": "stream",
     "text": [
      "least squares fit: 100%|██████████| 5000/5000 [00:02<00:00, 1758.14it/s]\n",
      "least squares fit:   4%|▎         | 177/5000 [00:00<00:02, 1763.66it/s]"
     ]
    },
    {
     "name": "stdout",
     "output_type": "stream",
     "text": [
      "bootstrap sample [31.433330253362577, 0.8768141821390377, -1.7328584033279486, -0.10210988051437449]\n"
     ]
    },
    {
     "name": "stderr",
     "output_type": "stream",
     "text": [
      "least squares fit: 100%|██████████| 5000/5000 [00:02<00:00, 1713.60it/s]\n",
      "least squares fit:   2%|▏         | 106/5000 [00:00<00:04, 1057.84it/s]"
     ]
    },
    {
     "name": "stdout",
     "output_type": "stream",
     "text": [
      "bootstrap sample [30.984236860566945, 1.036149466142919, -2.2200016449095226, 1.0886749895563579]\n"
     ]
    },
    {
     "name": "stderr",
     "output_type": "stream",
     "text": [
      "least squares fit: 100%|██████████| 5000/5000 [00:03<00:00, 1601.10it/s]\n",
      "least squares fit:   3%|▎         | 173/5000 [00:00<00:02, 1725.84it/s]"
     ]
    },
    {
     "name": "stdout",
     "output_type": "stream",
     "text": [
      "bootstrap sample [29.28237674477942, 1.0858388836439414, -1.74280602847473, 1.4397328297413239]\n"
     ]
    },
    {
     "name": "stderr",
     "output_type": "stream",
     "text": [
      "least squares fit: 100%|██████████| 5000/5000 [00:02<00:00, 1797.98it/s]\n",
      "least squares fit:   3%|▎         | 173/5000 [00:00<00:02, 1723.88it/s]"
     ]
    },
    {
     "name": "stdout",
     "output_type": "stream",
     "text": [
      "bootstrap sample [30.65460047430859, 0.9454408039075628, -1.7320071301269266, -0.1485862182089119]\n"
     ]
    },
    {
     "name": "stderr",
     "output_type": "stream",
     "text": [
      "least squares fit: 100%|██████████| 5000/5000 [00:02<00:00, 1786.42it/s]\n",
      "least squares fit:   4%|▎         | 180/5000 [00:00<00:02, 1794.35it/s]"
     ]
    },
    {
     "name": "stdout",
     "output_type": "stream",
     "text": [
      "bootstrap sample [29.118139496835955, 0.893808801696634, -1.9153563192896768, 2.0598345811489462]\n"
     ]
    },
    {
     "name": "stderr",
     "output_type": "stream",
     "text": [
      "least squares fit: 100%|██████████| 5000/5000 [00:02<00:00, 1802.07it/s]\n",
      "least squares fit:   7%|▋         | 346/5000 [00:00<00:02, 1666.03it/s]"
     ]
    },
    {
     "name": "stdout",
     "output_type": "stream",
     "text": [
      "bootstrap sample [29.95488463195938, 0.9940567914003665, -1.7605085370056377, 1.6096257131696945]\n"
     ]
    },
    {
     "name": "stderr",
     "output_type": "stream",
     "text": [
      "least squares fit: 100%|██████████| 5000/5000 [00:02<00:00, 1770.34it/s]\n",
      "least squares fit:   7%|▋         | 366/5000 [00:00<00:02, 1814.06it/s]"
     ]
    },
    {
     "name": "stdout",
     "output_type": "stream",
     "text": [
      "bootstrap sample [31.000164842544855, 0.962368315956188, -1.9115208623969564, 0.7473190835230143]\n"
     ]
    },
    {
     "name": "stderr",
     "output_type": "stream",
     "text": [
      "least squares fit: 100%|██████████| 5000/5000 [00:02<00:00, 1871.75it/s]\n",
      "least squares fit:   4%|▎         | 179/5000 [00:00<00:02, 1781.27it/s]"
     ]
    },
    {
     "name": "stdout",
     "output_type": "stream",
     "text": [
      "bootstrap sample [30.825204744897878, 0.8912590208026672, -1.770469093607492, 0.7459655949536621]\n"
     ]
    },
    {
     "name": "stderr",
     "output_type": "stream",
     "text": [
      "least squares fit: 100%|██████████| 5000/5000 [00:02<00:00, 1864.06it/s]\n",
      "least squares fit:   4%|▎         | 181/5000 [00:00<00:02, 1804.60it/s]"
     ]
    },
    {
     "name": "stdout",
     "output_type": "stream",
     "text": [
      "bootstrap sample [29.366136812382027, 1.012558241060829, -1.6182773155952548, 1.017025703754098]\n"
     ]
    },
    {
     "name": "stderr",
     "output_type": "stream",
     "text": [
      "least squares fit: 100%|██████████| 5000/5000 [00:02<00:00, 1866.25it/s]\n",
      "least squares fit:   4%|▎         | 176/5000 [00:00<00:02, 1759.00it/s]"
     ]
    },
    {
     "name": "stdout",
     "output_type": "stream",
     "text": [
      "bootstrap sample [29.94295970143512, 1.0167217566773747, -1.5621167917565122, -0.1030904763985423]\n"
     ]
    },
    {
     "name": "stderr",
     "output_type": "stream",
     "text": [
      "least squares fit: 100%|██████████| 5000/5000 [00:02<00:00, 1870.02it/s]\n",
      "least squares fit:   4%|▎         | 182/5000 [00:00<00:02, 1813.31it/s]"
     ]
    },
    {
     "name": "stdout",
     "output_type": "stream",
     "text": [
      "bootstrap sample [29.962898858207343, 1.0652251821283687, -1.926924147663584, 2.0385736378519947]\n"
     ]
    },
    {
     "name": "stderr",
     "output_type": "stream",
     "text": [
      "least squares fit: 100%|██████████| 5000/5000 [00:02<00:00, 1880.39it/s]\n",
      "least squares fit:   7%|▋         | 364/5000 [00:00<00:02, 1792.86it/s]"
     ]
    },
    {
     "name": "stdout",
     "output_type": "stream",
     "text": [
      "bootstrap sample [30.525302041791818, 0.9658944102293198, -1.8870631894489638, 0.5367690208128764]\n"
     ]
    },
    {
     "name": "stderr",
     "output_type": "stream",
     "text": [
      "least squares fit: 100%|██████████| 5000/5000 [00:02<00:00, 1869.40it/s]\n",
      "least squares fit:   7%|▋         | 370/5000 [00:00<00:02, 1834.83it/s]"
     ]
    },
    {
     "name": "stdout",
     "output_type": "stream",
     "text": [
      "bootstrap sample [30.6785320563259, 1.0139828545599132, -1.7817299670979692, 1.6026393229652947]\n"
     ]
    },
    {
     "name": "stderr",
     "output_type": "stream",
     "text": [
      "least squares fit: 100%|██████████| 5000/5000 [00:02<00:00, 1866.48it/s]\n",
      "least squares fit:   4%|▎         | 181/5000 [00:00<00:02, 1803.16it/s]"
     ]
    },
    {
     "name": "stdout",
     "output_type": "stream",
     "text": [
      "bootstrap sample [30.09073747870904, 1.0047123547747132, -1.9560265455918162, 2.75259429615735]\n"
     ]
    },
    {
     "name": "stderr",
     "output_type": "stream",
     "text": [
      "least squares fit: 100%|██████████| 5000/5000 [00:02<00:00, 1863.93it/s]\n",
      "least squares fit:   4%|▎         | 181/5000 [00:00<00:02, 1800.62it/s]"
     ]
    },
    {
     "name": "stdout",
     "output_type": "stream",
     "text": [
      "bootstrap sample [30.937038893678913, 0.9670590611928079, -2.1124811600264293, 0.3258045605146989]\n"
     ]
    },
    {
     "name": "stderr",
     "output_type": "stream",
     "text": [
      "least squares fit: 100%|██████████| 5000/5000 [00:02<00:00, 1876.92it/s]\n",
      "least squares fit:   4%|▎         | 181/5000 [00:00<00:02, 1804.43it/s]"
     ]
    },
    {
     "name": "stdout",
     "output_type": "stream",
     "text": [
      "bootstrap sample [28.78930855900356, 1.1730115746597942, -1.7835138640623003, 3.2623158308236095]\n"
     ]
    },
    {
     "name": "stderr",
     "output_type": "stream",
     "text": [
      "least squares fit: 100%|██████████| 5000/5000 [00:02<00:00, 1876.47it/s]\n",
      "least squares fit:   4%|▎         | 178/5000 [00:00<00:02, 1778.86it/s]"
     ]
    },
    {
     "name": "stdout",
     "output_type": "stream",
     "text": [
      "bootstrap sample [31.14754912309552, 0.9326436111603991, -1.7707952504307622, -1.099359064604309]\n"
     ]
    },
    {
     "name": "stderr",
     "output_type": "stream",
     "text": [
      "least squares fit: 100%|██████████| 5000/5000 [00:02<00:00, 1869.50it/s]\n",
      "least squares fit:   4%|▎         | 180/5000 [00:00<00:02, 1792.08it/s]"
     ]
    },
    {
     "name": "stdout",
     "output_type": "stream",
     "text": [
      "bootstrap sample [31.813727613195653, 0.9683784085384612, -2.019078886892217, 0.7501206686148623]\n"
     ]
    },
    {
     "name": "stderr",
     "output_type": "stream",
     "text": [
      "least squares fit: 100%|██████████| 5000/5000 [00:02<00:00, 1860.96it/s]\n",
      "least squares fit:   4%|▎         | 181/5000 [00:00<00:02, 1807.27it/s]"
     ]
    },
    {
     "name": "stdout",
     "output_type": "stream",
     "text": [
      "bootstrap sample [30.223398353230184, 0.9373764744862103, -1.5323607166675373, -0.01469994075209993]\n"
     ]
    },
    {
     "name": "stderr",
     "output_type": "stream",
     "text": [
      "least squares fit: 100%|██████████| 5000/5000 [00:02<00:00, 1860.47it/s]\n",
      "least squares fit:   7%|▋         | 365/5000 [00:00<00:02, 1806.65it/s]"
     ]
    },
    {
     "name": "stdout",
     "output_type": "stream",
     "text": [
      "bootstrap sample [28.01777500444891, 1.091598878794665, -1.6190191022832499, 2.397154344588124]\n"
     ]
    },
    {
     "name": "stderr",
     "output_type": "stream",
     "text": [
      "least squares fit: 100%|██████████| 5000/5000 [00:02<00:00, 1866.42it/s]\n",
      "least squares fit:   4%|▎         | 176/5000 [00:00<00:02, 1753.95it/s]"
     ]
    },
    {
     "name": "stdout",
     "output_type": "stream",
     "text": [
      "bootstrap sample [29.342668886496593, 0.9815156932180105, -1.9184777914462317, 1.5482939749639446]\n"
     ]
    },
    {
     "name": "stderr",
     "output_type": "stream",
     "text": [
      "least squares fit: 100%|██████████| 5000/5000 [00:02<00:00, 1845.69it/s]\n",
      "least squares fit:   4%|▎         | 181/5000 [00:00<00:02, 1801.60it/s]"
     ]
    },
    {
     "name": "stdout",
     "output_type": "stream",
     "text": [
      "bootstrap sample [32.53937166649288, 1.060883971208886, -2.2704689582768722, 0.3681597653761555]\n"
     ]
    },
    {
     "name": "stderr",
     "output_type": "stream",
     "text": [
      "least squares fit: 100%|██████████| 5000/5000 [00:02<00:00, 1748.92it/s]\n",
      "least squares fit:   4%|▎         | 181/5000 [00:00<00:02, 1806.41it/s]"
     ]
    },
    {
     "name": "stdout",
     "output_type": "stream",
     "text": [
      "bootstrap sample [30.106198499206915, 0.9657134612613777, -1.7191529436530641, -0.6267619207221298]\n"
     ]
    },
    {
     "name": "stderr",
     "output_type": "stream",
     "text": [
      "least squares fit: 100%|██████████| 5000/5000 [00:02<00:00, 1860.01it/s]\n",
      "least squares fit:   3%|▎         | 156/5000 [00:00<00:03, 1555.95it/s]"
     ]
    },
    {
     "name": "stdout",
     "output_type": "stream",
     "text": [
      "bootstrap sample [29.993282359977137, 0.9757399392816419, -1.9767875486880904, 2.048669364846268]\n"
     ]
    },
    {
     "name": "stderr",
     "output_type": "stream",
     "text": [
      "least squares fit: 100%|██████████| 5000/5000 [00:02<00:00, 1854.72it/s]\n",
      "least squares fit:   4%|▎         | 180/5000 [00:00<00:02, 1796.60it/s]"
     ]
    },
    {
     "name": "stdout",
     "output_type": "stream",
     "text": [
      "bootstrap sample [30.571136409586924, 1.066488813531558, -1.6618835177744289, -0.19985556821698586]\n"
     ]
    },
    {
     "name": "stderr",
     "output_type": "stream",
     "text": [
      "least squares fit: 100%|██████████| 5000/5000 [00:02<00:00, 1863.77it/s]\n",
      "least squares fit:   7%|▋         | 370/5000 [00:00<00:02, 1831.07it/s]"
     ]
    },
    {
     "name": "stdout",
     "output_type": "stream",
     "text": [
      "bootstrap sample [30.9490097252882, 0.9597396222139453, -1.9214823753987709, 1.25885503487694]\n"
     ]
    },
    {
     "name": "stderr",
     "output_type": "stream",
     "text": [
      "least squares fit: 100%|██████████| 5000/5000 [00:02<00:00, 1865.99it/s]\n",
      "least squares fit:   4%|▎         | 179/5000 [00:00<00:02, 1783.94it/s]"
     ]
    },
    {
     "name": "stdout",
     "output_type": "stream",
     "text": [
      "bootstrap sample [31.887007554673076, 0.9506671496957437, -2.152653973374404, 1.6869486505999165]\n"
     ]
    },
    {
     "name": "stderr",
     "output_type": "stream",
     "text": [
      "least squares fit: 100%|██████████| 5000/5000 [00:02<00:00, 1820.04it/s]\n",
      "least squares fit:   3%|▎         | 152/5000 [00:00<00:03, 1510.56it/s]"
     ]
    },
    {
     "name": "stdout",
     "output_type": "stream",
     "text": [
      "bootstrap sample [29.081704350215187, 1.0495038787355986, -1.6920009023683746, 3.609080049949202]\n"
     ]
    },
    {
     "name": "stderr",
     "output_type": "stream",
     "text": [
      "least squares fit: 100%|██████████| 5000/5000 [00:03<00:00, 1623.39it/s]\n",
      "least squares fit:   3%|▎         | 164/5000 [00:00<00:02, 1633.12it/s]"
     ]
    },
    {
     "name": "stdout",
     "output_type": "stream",
     "text": [
      "bootstrap sample [31.479546830562978, 1.1296437640969312, -1.8930013630375897, 0.2328971438009536]\n"
     ]
    },
    {
     "name": "stderr",
     "output_type": "stream",
     "text": [
      "least squares fit: 100%|██████████| 5000/5000 [00:03<00:00, 1565.38it/s]\n",
      "least squares fit:   3%|▎         | 132/5000 [00:00<00:03, 1315.62it/s]"
     ]
    },
    {
     "name": "stdout",
     "output_type": "stream",
     "text": [
      "bootstrap sample [30.610973912805395, 1.0065894319911013, -1.836243246680104, 0.4499397217455247]\n"
     ]
    },
    {
     "name": "stderr",
     "output_type": "stream",
     "text": [
      "least squares fit: 100%|██████████| 5000/5000 [00:02<00:00, 1706.74it/s]\n",
      "least squares fit:   4%|▎         | 175/5000 [00:00<00:02, 1739.87it/s]"
     ]
    },
    {
     "name": "stdout",
     "output_type": "stream",
     "text": [
      "bootstrap sample [31.80927695488258, 0.9821469730488941, -2.007959621103926, -0.2411398745050231]\n"
     ]
    },
    {
     "name": "stderr",
     "output_type": "stream",
     "text": [
      "least squares fit: 100%|██████████| 5000/5000 [00:02<00:00, 1789.52it/s]\n",
      "least squares fit:   3%|▎         | 173/5000 [00:00<00:02, 1723.38it/s]"
     ]
    },
    {
     "name": "stdout",
     "output_type": "stream",
     "text": [
      "bootstrap sample [31.024210851804416, 0.9515774062029452, -1.9408222914617927, 0.6442854716394794]\n"
     ]
    },
    {
     "name": "stderr",
     "output_type": "stream",
     "text": [
      "least squares fit: 100%|██████████| 5000/5000 [00:02<00:00, 1769.32it/s]\n",
      "least squares fit:   4%|▎         | 178/5000 [00:00<00:02, 1777.14it/s]"
     ]
    },
    {
     "name": "stdout",
     "output_type": "stream",
     "text": [
      "bootstrap sample [28.908141235990033, 1.0556273838810308, -1.7935754991375803, 2.082266951237433]\n"
     ]
    },
    {
     "name": "stderr",
     "output_type": "stream",
     "text": [
      "least squares fit: 100%|██████████| 5000/5000 [00:03<00:00, 1597.49it/s]\n",
      "least squares fit:   4%|▎         | 178/5000 [00:00<00:02, 1771.79it/s]"
     ]
    },
    {
     "name": "stdout",
     "output_type": "stream",
     "text": [
      "bootstrap sample [30.025383087071763, 0.9490311032868943, -1.8905462953821093, 1.614968102502849]\n"
     ]
    },
    {
     "name": "stderr",
     "output_type": "stream",
     "text": [
      "least squares fit: 100%|██████████| 5000/5000 [00:03<00:00, 1653.77it/s]\n",
      "least squares fit:   3%|▎         | 174/5000 [00:00<00:02, 1736.65it/s]"
     ]
    },
    {
     "name": "stdout",
     "output_type": "stream",
     "text": [
      "bootstrap sample [31.344911606937217, 0.9596230552550087, -2.084944019182774, 1.0635864768954955]\n"
     ]
    },
    {
     "name": "stderr",
     "output_type": "stream",
     "text": [
      "least squares fit: 100%|██████████| 5000/5000 [00:02<00:00, 1813.41it/s]\n",
      "least squares fit:   7%|▋         | 361/5000 [00:00<00:02, 1780.30it/s]"
     ]
    },
    {
     "name": "stdout",
     "output_type": "stream",
     "text": [
      "bootstrap sample [30.88785665879763, 0.9739691303740718, -1.750496781109518, -2.0086684580110616]\n"
     ]
    },
    {
     "name": "stderr",
     "output_type": "stream",
     "text": [
      "least squares fit: 100%|██████████| 5000/5000 [00:02<00:00, 1840.00it/s]\n",
      "least squares fit:   7%|▋         | 360/5000 [00:00<00:02, 1776.07it/s]"
     ]
    },
    {
     "name": "stdout",
     "output_type": "stream",
     "text": [
      "bootstrap sample [30.524172097277887, 0.9468432200060536, -1.7489583214704674, -0.42947540813439916]\n"
     ]
    },
    {
     "name": "stderr",
     "output_type": "stream",
     "text": [
      "least squares fit: 100%|██████████| 5000/5000 [00:02<00:00, 1852.67it/s]\n",
      "least squares fit:   4%|▎         | 179/5000 [00:00<00:02, 1783.42it/s]"
     ]
    },
    {
     "name": "stdout",
     "output_type": "stream",
     "text": [
      "bootstrap sample [33.73887281461898, 0.8342998931764716, -2.0056583070815233, -1.0048943591784738]\n"
     ]
    },
    {
     "name": "stderr",
     "output_type": "stream",
     "text": [
      "least squares fit: 100%|██████████| 5000/5000 [00:02<00:00, 1839.93it/s]\n",
      "least squares fit:   3%|▎         | 171/5000 [00:00<00:02, 1708.12it/s]"
     ]
    },
    {
     "name": "stdout",
     "output_type": "stream",
     "text": [
      "bootstrap sample [29.04731144829789, 0.9737448743420717, -1.7622553843049413, 0.9744871197165679]\n"
     ]
    },
    {
     "name": "stderr",
     "output_type": "stream",
     "text": [
      "least squares fit: 100%|██████████| 5000/5000 [00:02<00:00, 1707.85it/s]\n",
      "least squares fit:   3%|▎         | 151/5000 [00:00<00:03, 1503.01it/s]"
     ]
    },
    {
     "name": "stdout",
     "output_type": "stream",
     "text": [
      "bootstrap sample [30.849086975523765, 1.1142041012783979, -2.055393538038613, 1.8606960468590918]\n"
     ]
    },
    {
     "name": "stderr",
     "output_type": "stream",
     "text": [
      "least squares fit: 100%|██████████| 5000/5000 [00:02<00:00, 1704.22it/s]\n",
      "least squares fit:   3%|▎         | 136/5000 [00:00<00:03, 1357.52it/s]"
     ]
    },
    {
     "name": "stdout",
     "output_type": "stream",
     "text": [
      "bootstrap sample [31.20227902410509, 1.0148203879553739, -1.831139817867853, -0.12803605188562736]\n"
     ]
    },
    {
     "name": "stderr",
     "output_type": "stream",
     "text": [
      "least squares fit: 100%|██████████| 5000/5000 [00:02<00:00, 1811.41it/s]\n",
      "least squares fit:   4%|▎         | 179/5000 [00:00<00:02, 1784.20it/s]"
     ]
    },
    {
     "name": "stdout",
     "output_type": "stream",
     "text": [
      "bootstrap sample [30.44951242588852, 0.9188875408835141, -1.6623667661150159, 0.41561209518705605]\n"
     ]
    },
    {
     "name": "stderr",
     "output_type": "stream",
     "text": [
      "least squares fit: 100%|██████████| 5000/5000 [00:02<00:00, 1815.37it/s]\n",
      "least squares fit:   4%|▎         | 175/5000 [00:00<00:02, 1748.93it/s]"
     ]
    },
    {
     "name": "stdout",
     "output_type": "stream",
     "text": [
      "bootstrap sample [30.93743647937649, 0.9178249912706591, -1.91788395405578, 0.8027340312172657]\n"
     ]
    },
    {
     "name": "stderr",
     "output_type": "stream",
     "text": [
      "least squares fit: 100%|██████████| 5000/5000 [00:02<00:00, 1859.55it/s]\n",
      "least squares fit:   4%|▎         | 180/5000 [00:00<00:02, 1794.31it/s]"
     ]
    },
    {
     "name": "stdout",
     "output_type": "stream",
     "text": [
      "bootstrap sample [33.07304817934109, 0.7669188362229076, -1.8621104803815107, -0.5344373694611129]\n"
     ]
    },
    {
     "name": "stderr",
     "output_type": "stream",
     "text": [
      "least squares fit: 100%|██████████| 5000/5000 [00:02<00:00, 1865.01it/s]\n",
      "least squares fit:   3%|▎         | 169/5000 [00:00<00:02, 1686.27it/s]"
     ]
    },
    {
     "name": "stdout",
     "output_type": "stream",
     "text": [
      "bootstrap sample [30.98035452936738, 0.9608047189289309, -1.8571138381579286, 1.2456516010877]\n"
     ]
    },
    {
     "name": "stderr",
     "output_type": "stream",
     "text": [
      "least squares fit: 100%|██████████| 5000/5000 [00:02<00:00, 1866.10it/s]\n",
      "least squares fit:   4%|▎         | 177/5000 [00:00<00:02, 1769.73it/s]"
     ]
    },
    {
     "name": "stdout",
     "output_type": "stream",
     "text": [
      "bootstrap sample [29.890049201061156, 0.9320508621300003, -1.815157140889288, 1.6197634219660293]\n"
     ]
    },
    {
     "name": "stderr",
     "output_type": "stream",
     "text": [
      "least squares fit: 100%|██████████| 5000/5000 [00:02<00:00, 1692.04it/s]\n",
      "least squares fit:   3%|▎         | 172/5000 [00:00<00:02, 1714.82it/s]"
     ]
    },
    {
     "name": "stdout",
     "output_type": "stream",
     "text": [
      "bootstrap sample [32.7497073906742, 0.8163410438179741, -1.6727937223778233, -1.627203273138944]\n"
     ]
    },
    {
     "name": "stderr",
     "output_type": "stream",
     "text": [
      "least squares fit: 100%|██████████| 5000/5000 [00:02<00:00, 1764.66it/s]\n",
      "least squares fit:   7%|▋         | 364/5000 [00:00<00:02, 1794.49it/s]"
     ]
    },
    {
     "name": "stdout",
     "output_type": "stream",
     "text": [
      "bootstrap sample [32.23550207094589, 0.9915112587422378, -2.201685593411146, 0.659721525694611]\n"
     ]
    },
    {
     "name": "stderr",
     "output_type": "stream",
     "text": [
      "least squares fit: 100%|██████████| 5000/5000 [00:02<00:00, 1864.32it/s]\n",
      "least squares fit:   3%|▎         | 170/5000 [00:00<00:02, 1699.85it/s]"
     ]
    },
    {
     "name": "stdout",
     "output_type": "stream",
     "text": [
      "bootstrap sample [30.238346353105722, 0.9812068545490507, -1.9183149068660714, 2.4252389104819785]\n"
     ]
    },
    {
     "name": "stderr",
     "output_type": "stream",
     "text": [
      "least squares fit: 100%|██████████| 5000/5000 [00:02<00:00, 1770.84it/s]\n",
      "least squares fit:   4%|▎         | 178/5000 [00:00<00:02, 1774.27it/s]"
     ]
    },
    {
     "name": "stdout",
     "output_type": "stream",
     "text": [
      "bootstrap sample [30.574120085079127, 0.9174840515163696, -1.791824539551342, 0.9221993996446399]\n"
     ]
    },
    {
     "name": "stderr",
     "output_type": "stream",
     "text": [
      "least squares fit: 100%|██████████| 5000/5000 [00:02<00:00, 1842.35it/s]\n",
      "least squares fit:   4%|▎         | 180/5000 [00:00<00:02, 1799.66it/s]"
     ]
    },
    {
     "name": "stdout",
     "output_type": "stream",
     "text": [
      "bootstrap sample [30.200588272490595, 0.9290781608340558, -1.5128386060160508, -0.27164281164191667]\n"
     ]
    },
    {
     "name": "stderr",
     "output_type": "stream",
     "text": [
      "least squares fit: 100%|██████████| 5000/5000 [00:02<00:00, 1842.57it/s]\n",
      "least squares fit:   4%|▎         | 175/5000 [00:00<00:02, 1744.52it/s]"
     ]
    },
    {
     "name": "stdout",
     "output_type": "stream",
     "text": [
      "bootstrap sample [30.568001921567824, 1.0423323558239714, -2.0539328282484295, 2.070512986336468]\n"
     ]
    },
    {
     "name": "stderr",
     "output_type": "stream",
     "text": [
      "least squares fit: 100%|██████████| 5000/5000 [00:02<00:00, 1830.94it/s]\n",
      "least squares fit:   3%|▎         | 173/5000 [00:00<00:02, 1723.17it/s]"
     ]
    },
    {
     "name": "stdout",
     "output_type": "stream",
     "text": [
      "bootstrap sample [32.24170594033224, 0.928943846288939, -1.9597146432475416, -0.3283270089441192]\n"
     ]
    },
    {
     "name": "stderr",
     "output_type": "stream",
     "text": [
      "least squares fit: 100%|██████████| 5000/5000 [00:03<00:00, 1542.67it/s]\n",
      "least squares fit:   6%|▋         | 325/5000 [00:00<00:03, 1555.59it/s]"
     ]
    },
    {
     "name": "stdout",
     "output_type": "stream",
     "text": [
      "bootstrap sample [32.867472630955, 1.0159010210188608, -2.0279568468137548, -0.5177147877542921]\n"
     ]
    },
    {
     "name": "stderr",
     "output_type": "stream",
     "text": [
      "least squares fit: 100%|██████████| 5000/5000 [00:02<00:00, 1738.15it/s]\n",
      "least squares fit:   6%|▌         | 303/5000 [00:00<00:03, 1490.55it/s]"
     ]
    },
    {
     "name": "stdout",
     "output_type": "stream",
     "text": [
      "bootstrap sample [29.215869116992934, 1.0071212080144287, -1.9567505776484149, 3.7248516336467894]\n"
     ]
    },
    {
     "name": "stderr",
     "output_type": "stream",
     "text": [
      "least squares fit: 100%|██████████| 5000/5000 [00:03<00:00, 1598.66it/s]\n",
      "least squares fit:   3%|▎         | 169/5000 [00:00<00:02, 1688.43it/s]"
     ]
    },
    {
     "name": "stdout",
     "output_type": "stream",
     "text": [
      "bootstrap sample [29.731620363957564, 1.0022351904608418, -1.6056750069107464, 0.38365805637548667]\n"
     ]
    },
    {
     "name": "stderr",
     "output_type": "stream",
     "text": [
      "least squares fit: 100%|██████████| 5000/5000 [00:02<00:00, 1849.98it/s]\n",
      "least squares fit:   4%|▎         | 175/5000 [00:00<00:02, 1739.06it/s]"
     ]
    },
    {
     "name": "stdout",
     "output_type": "stream",
     "text": [
      "bootstrap sample [32.67347841435598, 0.8824434637692973, -1.9909101579029314, 0.04871947146702888]\n"
     ]
    },
    {
     "name": "stderr",
     "output_type": "stream",
     "text": [
      "least squares fit: 100%|██████████| 5000/5000 [00:02<00:00, 1856.29it/s]\n",
      "least squares fit:   4%|▎         | 175/5000 [00:00<00:02, 1745.27it/s]"
     ]
    },
    {
     "name": "stdout",
     "output_type": "stream",
     "text": [
      "bootstrap sample [29.15775553756214, 1.0683351454601346, -1.7096121511993116, 3.2616854857255317]\n"
     ]
    },
    {
     "name": "stderr",
     "output_type": "stream",
     "text": [
      "least squares fit: 100%|██████████| 5000/5000 [00:02<00:00, 1860.03it/s]\n",
      "least squares fit:   4%|▎         | 183/5000 [00:00<00:02, 1825.38it/s]"
     ]
    },
    {
     "name": "stdout",
     "output_type": "stream",
     "text": [
      "bootstrap sample [30.488240564960755, 1.0353317712496077, -1.9149562223503453, 2.595089595245561]\n"
     ]
    },
    {
     "name": "stderr",
     "output_type": "stream",
     "text": [
      "least squares fit: 100%|██████████| 5000/5000 [00:02<00:00, 1712.47it/s]\n",
      "least squares fit:   7%|▋         | 358/5000 [00:00<00:02, 1757.69it/s]"
     ]
    },
    {
     "name": "stdout",
     "output_type": "stream",
     "text": [
      "bootstrap sample [31.498485256154574, 0.865173722648589, -1.9003285713857743, -0.4448014961070426]\n"
     ]
    },
    {
     "name": "stderr",
     "output_type": "stream",
     "text": [
      "least squares fit: 100%|██████████| 5000/5000 [00:02<00:00, 1755.47it/s]\n",
      "least squares fit:   7%|▋         | 351/5000 [00:00<00:02, 1716.46it/s]"
     ]
    },
    {
     "name": "stdout",
     "output_type": "stream",
     "text": [
      "bootstrap sample [28.568637146495437, 0.9377084816305519, -1.6697079214548882, 2.0378528186926]\n"
     ]
    },
    {
     "name": "stderr",
     "output_type": "stream",
     "text": [
      "least squares fit: 100%|██████████| 5000/5000 [00:02<00:00, 1738.87it/s]\n",
      "least squares fit:   7%|▋         | 329/5000 [00:00<00:02, 1605.07it/s]"
     ]
    },
    {
     "name": "stdout",
     "output_type": "stream",
     "text": [
      "bootstrap sample [30.8880890003392, 0.9480046573855904, -1.9409732963472783, -0.38053847722698325]\n"
     ]
    },
    {
     "name": "stderr",
     "output_type": "stream",
     "text": [
      "least squares fit: 100%|██████████| 5000/5000 [00:02<00:00, 1756.91it/s]\n",
      "least squares fit:   7%|▋         | 360/5000 [00:00<00:02, 1771.74it/s]"
     ]
    },
    {
     "name": "stdout",
     "output_type": "stream",
     "text": [
      "bootstrap sample [30.449302174408764, 1.121851483678596, -1.9621516796699556, 2.244341597832513]\n"
     ]
    },
    {
     "name": "stderr",
     "output_type": "stream",
     "text": [
      "least squares fit: 100%|██████████| 5000/5000 [00:02<00:00, 1787.35it/s]\n",
      "least squares fit:   4%|▎         | 178/5000 [00:00<00:02, 1772.43it/s]"
     ]
    },
    {
     "name": "stdout",
     "output_type": "stream",
     "text": [
      "bootstrap sample [30.266204204539516, 1.006867325680496, -2.1198992898486466, 0.5362851256019128]\n"
     ]
    },
    {
     "name": "stderr",
     "output_type": "stream",
     "text": [
      "least squares fit: 100%|██████████| 5000/5000 [00:03<00:00, 1591.95it/s]\n",
      "least squares fit:   3%|▎         | 174/5000 [00:00<00:02, 1734.14it/s]"
     ]
    },
    {
     "name": "stdout",
     "output_type": "stream",
     "text": [
      "bootstrap sample [29.33031812613639, 1.0424517245684064, -1.8849226826885934, 2.2650387817258566]\n"
     ]
    },
    {
     "name": "stderr",
     "output_type": "stream",
     "text": [
      "least squares fit: 100%|██████████| 5000/5000 [00:02<00:00, 1682.54it/s]\n",
      "least squares fit:   4%|▎         | 178/5000 [00:00<00:02, 1769.45it/s]"
     ]
    },
    {
     "name": "stdout",
     "output_type": "stream",
     "text": [
      "bootstrap sample [31.777389538816966, 0.8928310423632744, -1.9269578522157438, 0.048635890062917325]\n"
     ]
    },
    {
     "name": "stderr",
     "output_type": "stream",
     "text": [
      "least squares fit: 100%|██████████| 5000/5000 [00:02<00:00, 1699.99it/s]\n",
      "least squares fit:   4%|▎         | 175/5000 [00:00<00:02, 1748.08it/s]"
     ]
    },
    {
     "name": "stdout",
     "output_type": "stream",
     "text": [
      "bootstrap sample [28.291072745509133, 1.1873361941623277, -1.8546687169062575, 2.6390276558088757]\n"
     ]
    },
    {
     "name": "stderr",
     "output_type": "stream",
     "text": [
      "least squares fit: 100%|██████████| 5000/5000 [00:02<00:00, 1781.35it/s]\n",
      "least squares fit:   5%|▌         | 268/5000 [00:00<00:03, 1395.11it/s]"
     ]
    },
    {
     "name": "stdout",
     "output_type": "stream",
     "text": [
      "bootstrap sample [31.725525991297584, 0.8939775539447468, -1.843559060469148, -0.6224324630864045]\n"
     ]
    },
    {
     "name": "stderr",
     "output_type": "stream",
     "text": [
      "least squares fit: 100%|██████████| 5000/5000 [00:03<00:00, 1611.78it/s]\n",
      "least squares fit:   7%|▋         | 365/5000 [00:00<00:02, 1807.64it/s]"
     ]
    },
    {
     "name": "stdout",
     "output_type": "stream",
     "text": [
      "bootstrap sample [30.2731194689144, 0.8005769229528958, -1.6991234036996576, 0.9748341305369917]\n"
     ]
    },
    {
     "name": "stderr",
     "output_type": "stream",
     "text": [
      "least squares fit: 100%|██████████| 5000/5000 [00:02<00:00, 1848.85it/s]\n"
     ]
    },
    {
     "name": "stdout",
     "output_type": "stream",
     "text": [
      "bootstrap sample [31.75696506368952, 1.0790800487199688, -2.0880894078200054, 1.6420943383461737]\n",
      "[1.2715078186272781, 0.10318410116073963, 0.15510591689663628, 1.2490975248051257]\n"
     ]
    }
   ],
   "source": [
    "from typing import Tuple\n",
    "    \n",
    "import datetime\n",
    "\n",
    "def estimate_sample_beta(pairs: List[Tuple[Vector, float]]):\n",
    "    x_sample = [x for x, _ in pairs]\n",
    "    y_sample = [y for _, y in pairs]\n",
    "    beta = least_squares_fit(x_sample, y_sample, learning_rate, 5000, 25)\n",
    "    print(\"bootstrap sample\", beta)\n",
    "    return beta\n",
    "\n",
    "random.seed(0) # so that you get the same results as me\n",
    "\n",
    "# This will take a couple of minutes!\n",
    "bootstrap_betas = bootstrap_statistic(list(zip(inputs, daily_minutes_good)),\n",
    "                                      estimate_sample_beta,\n",
    "                                      100)\n",
    "\n",
    "bootstrap_standard_errors = [\n",
    "    standard_deviation([beta[i] for beta in bootstrap_betas])\n",
    "    for i in range(4)]\n",
    "\n",
    "print(bootstrap_standard_errors)\n",
    "\n",
    "# [1.272,    # constant term, actual error = 1.19\n",
    "#  0.103,    # num_friends,   actual error = 0.080\n",
    "#  0.155,    # work_hours,    actual error = 0.127\n",
    "#  1.249]    # phd,           actual error = 0.998\n",
    "\n",
    "random.seed(0)\n",
    "beta_0 = least_squares_fit_ridge(inputs, daily_minutes_good, 0.0,  # alpha\n",
    "                                 learning_rate, 5000, 25)\n",
    "# [30.51, 0.97, -1.85, 0.91]\n",
    "assert 5 < dot(beta_0[1:], beta_0[1:]) < 6\n",
    "assert 0.67 < multiple_r_squared(inputs, daily_minutes_good, beta_0) < 0.69"
   ]
  },
  {
   "cell_type": "code",
   "execution_count": 19,
   "metadata": {},
   "outputs": [],
   "source": [
    "beta_0_1 = least_squares_fit_ridge(inputs, daily_minutes_good, 0.1,  # alpha\n",
    "                                       learning_rate, 5000, 25)\n",
    "# [30.8, 0.95, -1.83, 0.54]\n",
    "assert 4 < dot(beta_0_1[1:], beta_0_1[1:]) < 5\n",
    "assert 0.67 < multiple_r_squared(inputs, daily_minutes_good, beta_0_1) < 0.69"
   ]
  },
  {
   "cell_type": "code",
   "execution_count": 22,
   "metadata": {},
   "outputs": [],
   "source": [
    " beta_1 = least_squares_fit_ridge(inputs, daily_minutes_good, 1,  # alpha\n",
    "                                     learning_rate, 5000, 25)\n",
    "# [30.6, 0.90, -1.68, 0.10]\n",
    "assert 3 < dot(beta_1[1:], beta_1[1:]) < 4\n",
    "assert 0.67 < multiple_r_squared(inputs, daily_minutes_good, beta_1) < 0.69"
   ]
  },
  {
   "cell_type": "code",
   "execution_count": 23,
   "metadata": {},
   "outputs": [],
   "source": [
    " beta_10 = least_squares_fit_ridge(inputs, daily_minutes_good,10,  # alpha\n",
    "                                      learning_rate, 5000, 25)\n",
    "# [28.3, 0.67, -0.90, -0.01]\n",
    "assert 1 < dot(beta_10[1:], beta_10[1:]) < 2\n",
    "assert 0.5 < multiple_r_squared(inputs, daily_minutes_good, beta_10) < 0.6"
   ]
  },
  {
   "cell_type": "code",
   "execution_count": null,
   "metadata": {},
   "outputs": [],
   "source": []
  }
 ],
 "metadata": {
  "kernelspec": {
   "display_name": "Python 3",
   "language": "python",
   "name": "python3"
  },
  "language_info": {
   "codemirror_mode": {
    "name": "ipython",
    "version": 3
   },
   "file_extension": ".py",
   "mimetype": "text/x-python",
   "name": "python",
   "nbconvert_exporter": "python",
   "pygments_lexer": "ipython3",
   "version": "3.6.8"
  }
 },
 "nbformat": 4,
 "nbformat_minor": 4
}
