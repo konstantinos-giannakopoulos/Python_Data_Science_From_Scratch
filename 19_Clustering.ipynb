{
 "cells": [
  {
   "cell_type": "code",
   "execution_count": 2,
   "metadata": {},
   "outputs": [],
   "source": [
    "from linear_algebra import Vector\n",
    "\n",
    "def num_differences(v1: Vector, v2: Vector) -> int:\n",
    "    assert len(v1) == len(v2)\n",
    "    return len([x1 for x1, x2 in zip(v1, v2) if x1 != x2])\n",
    "\n",
    "assert num_differences([1, 2, 3], [2, 1, 3]) == 2\n",
    "assert num_differences([1, 2], [1, 2]) == 0"
   ]
  },
  {
   "cell_type": "code",
   "execution_count": 3,
   "metadata": {},
   "outputs": [],
   "source": [
    "from typing import List\n",
    "from linear_algebra import vector_mean\n",
    "\n",
    "def cluster_means(k: int,\n",
    "                  inputs: List[Vector],\n",
    "                  assignments: List[int]) -> List[Vector]:\n",
    "    # clusters[i] contains the inputs whose assignment is i\n",
    "    clusters = [[] for i in range(k)]\n",
    "    for input, assignment in zip(inputs, assignments):\n",
    "        clusters[assignment].append(input)\n",
    "\n",
    "    # if a cluster is empty, just use a random point\n",
    "    return [vector_mean(cluster) if cluster else random.choice(inputs)\n",
    "            for cluster in clusters]"
   ]
  },
  {
   "cell_type": "code",
   "execution_count": 4,
   "metadata": {},
   "outputs": [],
   "source": [
    "import itertools\n",
    "import random\n",
    "import tqdm\n",
    "from linear_algebra import squared_distance\n",
    "\n",
    "class KMeans:\n",
    "    def __init__(self, k: int) -> None:\n",
    "        self.k = k                      # number of clusters\n",
    "        self.means = None\n",
    "\n",
    "    def classify(self, input: Vector) -> int:\n",
    "        \"\"\"return the index of the cluster closest to the input\"\"\"\n",
    "        return min(range(self.k),\n",
    "                   key=lambda i: squared_distance(input, self.means[i]))\n",
    "\n",
    "    def train(self, inputs: List[Vector]) -> None:\n",
    "        # Start with random assignments\n",
    "        assignments = [random.randrange(self.k) for _ in inputs]\n",
    "\n",
    "        with tqdm.tqdm(itertools.count()) as t:\n",
    "            for _ in t:\n",
    "                # Compute means and find new assignments\n",
    "                self.means = cluster_means(self.k, inputs, assignments)\n",
    "                new_assignments = [self.classify(input) for input in inputs]\n",
    "\n",
    "                # Check how many assignments changed and if we're done\n",
    "                num_changed = num_differences(assignments, new_assignments)\n",
    "                if num_changed == 0:\n",
    "                    return\n",
    "\n",
    "                # Otherwise keep the new assignments, and compute new means\n",
    "                assignments = new_assignments\n",
    "                self.means = cluster_means(self.k, inputs, assignments)\n",
    "                t.set_description(f\"changed: {num_changed} / {len(inputs)}\")"
   ]
  },
  {
   "cell_type": "code",
   "execution_count": 5,
   "metadata": {},
   "outputs": [],
   "source": [
    "from typing import NamedTuple, Union\n",
    "\n",
    "class Leaf(NamedTuple):\n",
    "    value: Vector\n",
    "\n",
    "leaf1 = Leaf([10,  20])\n",
    "leaf2 = Leaf([30, -15])\n",
    "\n",
    "class Merged(NamedTuple):\n",
    "    children: tuple\n",
    "    order: int\n",
    "\n",
    "merged = Merged((leaf1, leaf2), order=1)\n",
    "\n",
    "Cluster = Union[Leaf, Merged]\n",
    "\n",
    "def get_values(cluster: Cluster) -> List[Vector]:\n",
    "    if isinstance(cluster, Leaf):\n",
    "        return [cluster.value]\n",
    "    else:\n",
    "        return [value\n",
    "                for child in cluster.children\n",
    "                for value in get_values(child)]\n",
    "\n",
    "assert get_values(merged) == [[10, 20], [30, -15]]"
   ]
  },
  {
   "cell_type": "code",
   "execution_count": 8,
   "metadata": {},
   "outputs": [],
   "source": [
    "from typing import Callable\n",
    "from linear_algebra import distance\n",
    "\n",
    "def cluster_distance(cluster1: Cluster,\n",
    "                     cluster2: Cluster,\n",
    "                     distance_agg: Callable = min) -> float:\n",
    "    \"\"\"\n",
    "    compute all the pairwise distances between cluster1 and cluster2\n",
    "    and apply the aggregation function _distance_agg_ to the resulting list\n",
    "    \"\"\"\n",
    "    return distance_agg([distance(v1, v2)\n",
    "                         for v1 in get_values(cluster1)\n",
    "                         for v2 in get_values(cluster2)])\n",
    "\n",
    "def get_merge_order(cluster: Cluster) -> float:\n",
    "    if isinstance(cluster, Leaf):\n",
    "        return float('inf')  # was never merged\n",
    "    else:\n",
    "        return cluster.order"
   ]
  },
  {
   "cell_type": "code",
   "execution_count": 9,
   "metadata": {},
   "outputs": [],
   "source": [
    "from typing import Tuple\n",
    "\n",
    "def get_children(cluster: Cluster):\n",
    "    if isinstance(cluster, Leaf):\n",
    "        raise TypeError(\"Leaf has no children\")\n",
    "    else:\n",
    "        return cluster.children\n",
    "\n",
    "def bottom_up_cluster(inputs: List[Vector],\n",
    "                      distance_agg: Callable = min) -> Cluster:\n",
    "    # Start with all leaves\n",
    "    clusters: List[Cluster] = [Leaf(input) for input in inputs]\n",
    "\n",
    "    def pair_distance(pair: Tuple[Cluster, Cluster]) -> float:\n",
    "        return cluster_distance(pair[0], pair[1], distance_agg)\n",
    "\n",
    "    # as long as we have more than one cluster left...\n",
    "    while len(clusters) > 1:\n",
    "        # find the two closest clusters\n",
    "        c1, c2 = min(((cluster1, cluster2)\n",
    "                      for i, cluster1 in enumerate(clusters)\n",
    "                      for cluster2 in clusters[:i]),\n",
    "                      key=pair_distance)\n",
    "\n",
    "        # remove them from the list of clusters\n",
    "        clusters = [c for c in clusters if c != c1 and c != c2]\n",
    "\n",
    "        # merge them, using merge_order = # of clusters left\n",
    "        merged_cluster = Merged((c1, c2), order=len(clusters))\n",
    "\n",
    "        # and add their merge\n",
    "        clusters.append(merged_cluster)\n",
    "\n",
    "    # when there's only one cluster left, return it\n",
    "    return clusters[0]"
   ]
  },
  {
   "cell_type": "code",
   "execution_count": 10,
   "metadata": {},
   "outputs": [],
   "source": [
    "def generate_clusters(base_cluster: Cluster,\n",
    "                      num_clusters: int) -> List[Cluster]:\n",
    "    # start with a list with just the base cluster\n",
    "    clusters = [base_cluster]\n",
    "\n",
    "    # as long as we don't have enough clusters yet...\n",
    "    while len(clusters) < num_clusters:\n",
    "        # choose the last-merged of our clusters\n",
    "        next_cluster = min(clusters, key=get_merge_order)\n",
    "        # remove it from the list\n",
    "        clusters = [c for c in clusters if c != next_cluster]\n",
    "\n",
    "        # and add its children to the list (i.e., unmerge it)\n",
    "        clusters.extend(get_children(next_cluster))\n",
    "\n",
    "    # once we have enough clusters...\n",
    "    return clusters\n"
   ]
  },
  {
   "cell_type": "markdown",
   "metadata": {},
   "source": [
    "### main()"
   ]
  },
  {
   "cell_type": "code",
   "execution_count": 11,
   "metadata": {},
   "outputs": [
    {
     "name": "stderr",
     "output_type": "stream",
     "text": [
      "changed: 5 / 20: : 0it [00:00, ?it/s]\n",
      "changed: 4 / 20: : 0it [00:00, ?it/s]\n"
     ]
    }
   ],
   "source": [
    "inputs: List[List[float]] = [[-14,-5],[13,13],[20,23],[-19,-11],[-9,-16],[21,27],[-49,15],[26,13],[-46,5],[-34,-1],[11,15],[-49,0],[-22,-16],[19,28],[-12,-8],[-13,-19],[-41,8],[-11,-6],[-25,-9],[-18,-3]]\n",
    "    \n",
    "random.seed(12)                   # so you get the same results as me\n",
    "clusterer = KMeans(k=3)\n",
    "clusterer.train(inputs)\n",
    "means = sorted(clusterer.means)   # sort for the unit test\n",
    "\n",
    "assert len(means) == 3\n",
    "\n",
    "# Check that the means are close to what we expect.\n",
    "assert squared_distance(means[0], [-44, 5]) < 1\n",
    "assert squared_distance(means[1], [-16, -10]) < 1\n",
    "assert squared_distance(means[2], [18, 20]) < 1\n",
    "\n",
    "random.seed(0)\n",
    "clusterer = KMeans(k=2)\n",
    "clusterer.train(inputs)\n",
    "means = sorted(clusterer.means)\n",
    "\n",
    "assert len(means) == 2\n",
    "assert squared_distance(means[0], [-26, -5]) < 1\n",
    "assert squared_distance(means[1], [18, 20]) < 1"
   ]
  },
  {
   "cell_type": "code",
   "execution_count": 13,
   "metadata": {},
   "outputs": [
    {
     "name": "stderr",
     "output_type": "stream",
     "text": [
      "0it [00:00, ?it/s]\n",
      "changed: 8 / 20: : 0it [00:00, ?it/s]\n",
      "changed: 11 / 20: : 0it [00:00, ?it/s]\n",
      "changed: 3 / 20: : 0it [00:00, ?it/s] \n",
      "changed: 5 / 20: : 0it [00:00, ?it/s] \n",
      "changed: 7 / 20: : 0it [00:00, ?it/s] \n",
      "changed: 7 / 20: : 0it [00:00, ?it/s] \n",
      "changed: 2 / 20: : 0it [00:00, ?it/s] \n",
      "changed: 3 / 20: : 0it [00:00, ?it/s] \n",
      "changed: 5 / 20: : 0it [00:00, ?it/s] \n",
      "changed: 1 / 20: : 0it [00:00, ?it/s] \n",
      "changed: 7 / 20: : 0it [00:00, ?it/s] \n",
      "changed: 1 / 20: : 0it [00:00, ?it/s] \n",
      "changed: 8 / 20: : 0it [00:00, ?it/s] \n",
      "changed: 1 / 20: : 0it [00:00, ?it/s] \n",
      "changed: 1 / 20: : 0it [00:00, ?it/s] \n",
      "changed: 1 / 20: : 0it [00:00, ?it/s] \n",
      "changed: 2 / 20: : 0it [00:00, ?it/s] \n",
      "changed: 1 / 20: : 0it [00:00, ?it/s] \n",
      "changed: 1 / 20: : 0it [00:00, ?it/s] \n"
     ]
    },
    {
     "data": {
      "image/png": "[encoded data removed]",
      "text/plain": [
       "<Figure size 432x288 with 1 Axes>"
      ]
     },
     "metadata": {
      "needs_background": "light"
     },
     "output_type": "display_data"
    }
   ],
   "source": [
    "from matplotlib import pyplot as plt\n",
    "\n",
    "def squared_clustering_errors(inputs: List[Vector], k: int) -> float:\n",
    "    \"\"\"finds the total squared error from k-means clustering the inputs\"\"\"\n",
    "    clusterer = KMeans(k)\n",
    "    clusterer.train(inputs)\n",
    "    means = clusterer.means\n",
    "    assignments = [clusterer.classify(input) for input in inputs]\n",
    "\n",
    "    return sum(squared_distance(input, means[cluster])\n",
    "               for input, cluster in zip(inputs, assignments))\n",
    "\n",
    "# now plot from 1 up to len(inputs) clusters\n",
    "\n",
    "ks = range(1, len(inputs) + 1)\n",
    "errors = [squared_clustering_errors(inputs, k) for k in ks]\n",
    "\n",
    "plt.plot(ks, errors)\n",
    "plt.xticks(ks)\n",
    "plt.xlabel(\"k\")\n",
    "plt.ylabel(\"total squared error\")\n",
    "plt.title(\"Total Error vs. # of Clusters\")\n",
    "plt.show()\n",
    "\n",
    "\n",
    "\n",
    "#plt.savefig('im/total_error_vs_num_clusters')\n",
    "#plt.gca().clear()"
   ]
  },
  {
   "cell_type": "code",
   "execution_count": 15,
   "metadata": {},
   "outputs": [
    {
     "name": "stderr",
     "output_type": "stream",
     "text": [
      "changed: 1 / 143520: : 33it [01:05,  1.99s/it]    \n"
     ]
    },
    {
     "data": {
      "image/png": "[encoded data removed]",
      "text/plain": [
       "<Figure size 432x288 with 1 Axes>"
      ]
     },
     "metadata": {
      "needs_background": "light"
     },
     "output_type": "display_data"
    }
   ],
   "source": [
    "image_path = r\"china.jpg\"    # wherever your image is\n",
    "import matplotlib.image as mpimg\n",
    "img = mpimg.imread(image_path) / 256  # rescale to between 0 and 1\n",
    "\n",
    "# .tolist() converts a numpy array to a Python list\n",
    "pixels = [pixel.tolist() for row in img for pixel in row]\n",
    "\n",
    "clusterer = KMeans(5)\n",
    "clusterer.train(pixels)   # this might take a while\n",
    "\n",
    "def recolor(pixel: Vector) -> Vector:\n",
    "    cluster = clusterer.classify(pixel)        # index of the closest cluster\n",
    "    return clusterer.means[cluster]            # mean of the closest cluster\n",
    "\n",
    "new_img = [[recolor(pixel) for pixel in row]   # recolor this row of pixels\n",
    "           for row in img]                     # for each row in the image\n",
    "\n",
    "\n",
    "plt.close()\n",
    "\n",
    "plt.imshow(new_img)\n",
    "plt.axis('off')\n",
    "#plt.show()\n",
    "\n",
    "\n",
    "\n",
    "plt.savefig('im/recolored_china.jpg')\n",
    "#plt.gca().clear()"
   ]
  },
  {
   "cell_type": "code",
   "execution_count": 17,
   "metadata": {},
   "outputs": [
    {
     "data": {
      "image/png": "[encoded data removed]",
      "text/plain": [
       "<Figure size 432x288 with 1 Axes>"
      ]
     },
     "metadata": {
      "needs_background": "light"
     },
     "output_type": "display_data"
    }
   ],
   "source": [
    "base_cluster = bottom_up_cluster(inputs)\n",
    "\n",
    "three_clusters = [get_values(cluster)\n",
    "                  for cluster in generate_clusters(base_cluster, 3)]\n",
    "\n",
    "\n",
    "\n",
    "# sort smallest to largest\n",
    "tc = sorted(three_clusters, key=len)\n",
    "assert len(tc) == 3\n",
    "assert [len(c) for c in tc] == [2, 4, 14]\n",
    "assert sorted(tc[0]) == [[11, 15], [13, 13]]\n",
    "\n",
    "\n",
    "plt.close()\n",
    "\n",
    "for i, cluster, marker, color in zip([1, 2, 3],\n",
    "                                     three_clusters,\n",
    "                                     ['D','o','*'],\n",
    "                                     ['r','g','b']):\n",
    "    xs, ys = zip(*cluster)  # magic unzipping trick\n",
    "    plt.scatter(xs, ys, color=color, marker=marker)\n",
    "\n",
    "    # put a number at the mean of the cluster\n",
    "    x, y = vector_mean(cluster)\n",
    "    plt.plot(x, y, marker='$' + str(i) + '$', color='black')\n",
    "\n",
    "plt.title(\"User Locations -- 3 Bottom-Up Clusters, Min\")\n",
    "plt.xlabel(\"blocks east of city center\")\n",
    "plt.ylabel(\"blocks north of city center\")\n",
    "plt.show()\n",
    "\n",
    "\n",
    "\n",
    "#plt.savefig('im/bottom_up_clusters_min.png')\n",
    "plt.gca().clear()\n",
    "plt.close()\n"
   ]
  },
  {
   "cell_type": "code",
   "execution_count": 19,
   "metadata": {},
   "outputs": [
    {
     "data": {
      "image/png": "[encoded data removed]",
      "text/plain": [
       "<Figure size 432x288 with 1 Axes>"
      ]
     },
     "metadata": {
      "needs_background": "light"
     },
     "output_type": "display_data"
    }
   ],
   "source": [
    "base_cluster_max = bottom_up_cluster(inputs, max)\n",
    "three_clusters_max = [get_values(cluster)\n",
    "                      for cluster in generate_clusters(base_cluster_max, 3)]\n",
    "\n",
    "for i, cluster, marker, color in zip([1, 2, 3],\n",
    "                                     three_clusters_max,\n",
    "                                     ['D','o','*'],\n",
    "                                     ['r','g','b']):\n",
    "    xs, ys = zip(*cluster)  # magic unzipping trick\n",
    "    plt.scatter(xs, ys, color=color, marker=marker)\n",
    "\n",
    "    # put a number at the mean of the cluster\n",
    "    x, y = vector_mean(cluster)\n",
    "    plt.plot(x, y, marker='$' + str(i) + '$', color='black')\n",
    "\n",
    "plt.title(\"User Locations -- 3 Bottom-Up Clusters, Max\")\n",
    "plt.xlabel(\"blocks east of city center\")\n",
    "plt.ylabel(\"blocks north of city center\")\n",
    "plt.savefig('im/bottom_up_clusters_max.png')\n",
    "#plt.gca().clear()"
   ]
  },
  {
   "cell_type": "code",
   "execution_count": null,
   "metadata": {},
   "outputs": [],
   "source": []
  }
 ],
 "metadata": {
  "kernelspec": {
   "display_name": "Python 3",
   "language": "python",
   "name": "python3"
  },
  "language_info": {
   "codemirror_mode": {
    "name": "ipython",
    "version": 3
   },
   "file_extension": ".py",
   "mimetype": "text/x-python",
   "name": "python",
   "nbconvert_exporter": "python",
   "pygments_lexer": "ipython3",
   "version": "3.6.8"
  }
 },
 "nbformat": 4,
 "nbformat_minor": 4
}
